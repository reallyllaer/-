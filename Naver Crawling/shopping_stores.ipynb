{
 "cells": [
  {
   "cell_type": "code",
   "execution_count": 1,
   "metadata": {},
   "outputs": [],
   "source": [
    "from bs4 import BeautifulSoup\n",
    "import time\n",
    "import re\n",
    "from selenium import webdriver # 브라우저를 조작하는 모듈\n",
    "from selenium.webdriver.chrome.service import Service # 크롬 드라이버의 시작과 중지를 담당하는 클래스\n",
    "from selenium.webdriver.common.by import By # 엘리먼트를 어떤 방식으로 선택할 지에 대한 상수\n",
    "from webdriver_manager.chrome import ChromeDriverManager # 크롬 드라이버를 관리\n",
    "import pandas as pd\n",
    "from tqdm.auto import tqdm\n",
    "from selenium.webdriver import ActionChains\n",
    "from selenium.webdriver.support import expected_conditions as EC\n",
    "from selenium.webdriver.support.ui import WebDriverWait"
   ]
  },
  {
   "cell_type": "code",
   "execution_count": 2,
   "metadata": {},
   "outputs": [],
   "source": [
    "DATA_PATH = \"C:/Users/csjin/Desktop/crawling/data/\""
   ]
  },
  {
   "cell_type": "code",
   "execution_count": 3,
   "metadata": {},
   "outputs": [],
   "source": [
    "def all_review(soup):\n",
    "    review = soup.find('a', attrs={'data-nclick':'N=a:tab*s.srev'}).text\n",
    "    review = int(review.split('쇼핑몰리뷰')[1].replace(',', ''))\n",
    "    return review"
   ]
  },
  {
   "cell_type": "code",
   "execution_count": 4,
   "metadata": {},
   "outputs": [],
   "source": [
    "def review_per_page(soup):\n",
    "    _all = soup.find_all('span', attrs={'class':'reviewItems_average__0kLWX'})\n",
    "    return len(_all)"
   ]
  },
  {
   "cell_type": "code",
   "execution_count": 5,
   "metadata": {},
   "outputs": [],
   "source": [
    "def next_click(driver, i):\n",
    "    selector = f\"a[href='#'][role='button'][data-nclick='N=a:rev.page,r:{i}']\"\n",
    "    button = WebDriverWait(driver, 10).until(EC.element_to_be_clickable((By.CSS_SELECTOR, selector)))\n",
    "    button.click()"
   ]
  },
  {
   "cell_type": "code",
   "execution_count": 6,
   "metadata": {},
   "outputs": [],
   "source": [
    "def data_collect(soup, i):\n",
    "    # 댓글 본문 수집\n",
    "    content = soup.find_all('p', attrs = {'class' : 'reviewItems_text__XrSSf'})[i].text\n",
    "\n",
    "    # 전체 수집\n",
    "    text = soup.find_all('div', attrs={'class':'reviewItems_etc_area__3VUjt'})[i].text\n",
    "    \n",
    "    # 평점 수집\n",
    "    score = int(text[2])\n",
    "    \n",
    "    # 날짜 수집\n",
    "    p = re.compile('[0-9]+.[0-9]+.[0-9]+.')\n",
    "    date = p.findall(text)[0]\n",
    "\n",
    "    # 옵션 수집\n",
    "    option = text.split(date)[1]\n",
    "    \n",
    "    data = [content, score, date, option]\n",
    "    return data\n",
    "    "
   ]
  },
  {
   "cell_type": "code",
   "execution_count": 7,
   "metadata": {},
   "outputs": [],
   "source": [
    "def rating_click(driver, i):\n",
    "    driver.find_element(By.CSS_SELECTOR, f'a[href=\"#\"][data-nclick=\"N=a:rev.grd{i}\"]').click()"
   ]
  },
  {
   "cell_type": "code",
   "execution_count": 8,
   "metadata": {},
   "outputs": [],
   "source": [
    "def photo_click(driver):\n",
    "    driver.find_element(By.CSS_SELECTOR, 'a[href=\"#\"][data-nclick=\"N=a:rev.photoon\"]').click()"
   ]
  },
  {
   "cell_type": "code",
   "execution_count": 9,
   "metadata": {},
   "outputs": [],
   "source": [
    "def recent_click(driver):\n",
    "    driver.find_element(By.CSS_SELECTOR, 'a[href=\"#\"][data-nclick=\"N=a:rev.rec\"]').click()"
   ]
  },
  {
   "cell_type": "code",
   "execution_count": 14,
   "metadata": {},
   "outputs": [],
   "source": [
    "url_lst = ['https://search.shopping.naver.com/catalog/17448001091?query=%EB%8B%A5%ED%84%B0%EA%B7%B8%EB%A3%A8%ED%8A%B8&NaPm=ct%3Dlma7w5t4%7Cci%3D58b8717ff1fc41c5b92b16823e1d90bf64fe5c73%7Ctr%3Dslsl%7Csn%3D95694%7Chk%3Dbd90b8aa2dba51a272492531b9ca15cfc8ac003f']"
   ]
  },
  {
   "cell_type": "code",
   "execution_count": 19,
   "metadata": {},
   "outputs": [
    {
     "data": {
      "application/vnd.jupyter.widget-view+json": {
       "model_id": "3a3e78e97b7b4eacb49974391b9496ec",
       "version_major": 2,
       "version_minor": 0
      },
      "text/plain": [
       "outer:   0%|          | 0/1 [00:00<?, ?it/s]"
      ]
     },
     "metadata": {},
     "output_type": "display_data"
    }
   ],
   "source": [
    "# 최신순으로 5점만\n",
    "options = webdriver.ChromeOptions()\n",
    "options.add_argument('--start-maximized') # 전체 화면\n",
    "options.add_argument(\"--incognito\") # 시크릿 모드\n",
    "driver = webdriver.Chrome(\n",
    "    service=Service(ChromeDriverManager().install()),\n",
    "    options=options\n",
    ")\n",
    "\n",
    "for url in tqdm(url_lst, desc=\"outer\", position=0):\n",
    "    driver.get(url)\n",
    "    WebDriverWait(driver, 10).until(EC.presence_of_element_located((By.CSS_SELECTOR, \"p.reviewItems_text__XrSSf\")))\n",
    "    \n",
    "    html = driver.page_source\n",
    "    soup = BeautifulSoup(html, 'lxml')\n",
    "    review = all_review(soup)\n",
    "    \n",
    "    page_num = (review // 20) + 1\n",
    "    result = []\n",
    "    \n",
    "    recent_click(driver)\n",
    "    \n",
    "    time.sleep(0.2)\n",
    "    \n",
    "    rating_click(driver, 5)\n",
    "    \n",
    "    time.sleep(0.2)\n",
    "    \n",
    "    html = driver.page_source\n",
    "    soup = BeautifulSoup(html, 'lxml')\n",
    "    # 1페이지 수집\n",
    "    for i in range(review_per_page(soup)):\n",
    "        data = data_collect(soup, i)\n",
    "        result.append(data)\n",
    "    \n",
    "    # 2페이지 부터 수집\n",
    "    for i in range(2, 101):\n",
    "        try:\n",
    "            next_click(driver, i)\n",
    "        except:\n",
    "            break\n",
    "        time.sleep(0.2)\n",
    "        html = driver.page_source\n",
    "        soup = BeautifulSoup(html, 'lxml')\n",
    "        for j in range(review_per_page(soup)):\n",
    "            data = data_collect(soup, j)\n",
    "            result.append(data)\n",
    "\n",
    "        time.sleep(0.5)\n",
    "\n",
    "    results_df = pd.DataFrame(result)\n",
    "    results_df.columns = ['content', 'score', 'date', 'option']"
   ]
  },
  {
   "cell_type": "code",
   "execution_count": 15,
   "metadata": {},
   "outputs": [
    {
     "data": {
      "application/vnd.jupyter.widget-view+json": {
       "model_id": "64446c50d98c4d5ea91b9766fffab85a",
       "version_major": 2,
       "version_minor": 0
      },
      "text/plain": [
       "outer:   0%|          | 0/1 [00:00<?, ?it/s]"
      ]
     },
     "metadata": {},
     "output_type": "display_data"
    }
   ],
   "source": [
    "# 포토&동영상 리뷰로 5점만\n",
    "options = webdriver.ChromeOptions()\n",
    "options.add_argument('--start-maximized') # 전체 화면\n",
    "options.add_argument(\"--incognito\") # 시크릿 모드\n",
    "driver = webdriver.Chrome(\n",
    "    service=Service(ChromeDriverManager().install()),\n",
    "    options=options\n",
    ")\n",
    "\n",
    "for url in tqdm(url_lst, desc=\"outer\", position=0):\n",
    "    driver.get(url)\n",
    "    WebDriverWait(driver, 10).until(EC.presence_of_element_located((By.CSS_SELECTOR, \"p.reviewItems_text__XrSSf\")))\n",
    "    \n",
    "    html = driver.page_source\n",
    "    soup = BeautifulSoup(html, 'lxml')\n",
    "    review = all_review(soup)\n",
    "    \n",
    "    page_num = (review // 20) + 1\n",
    "    result = []\n",
    "    \n",
    "    photo_click(driver)\n",
    "    \n",
    "    time.sleep(0.2)\n",
    "    \n",
    "    rating_click(driver, 5)\n",
    "    \n",
    "    time.sleep(0.2)\n",
    "    \n",
    "    html = driver.page_source\n",
    "    soup = BeautifulSoup(html, 'lxml')\n",
    "    # 1페이지 수집\n",
    "    for i in range(review_per_page(soup)):\n",
    "        data = data_collect(soup, i)\n",
    "        result.append(data)\n",
    "    \n",
    "    # 2페이지 부터 수집\n",
    "    for i in range(2, 101):\n",
    "        try:\n",
    "            next_click(driver, i)\n",
    "        except:\n",
    "            break\n",
    "        time.sleep(0.2)\n",
    "        html = driver.page_source\n",
    "        soup = BeautifulSoup(html, 'lxml')\n",
    "        for j in range(review_per_page(soup)):\n",
    "            data = data_collect(soup, j)\n",
    "            result.append(data)\n",
    "\n",
    "        time.sleep(0.5)\n",
    "\n",
    "    results_df = pd.DataFrame(result)\n",
    "    results_df.columns = ['content', 'score', 'date', 'option']\n",
    "        "
   ]
  },
  {
   "cell_type": "code",
   "execution_count": 10,
   "metadata": {},
   "outputs": [
    {
     "data": {
      "application/vnd.jupyter.widget-view+json": {
       "model_id": "3594c8d264284262bebbb5fc67d45b6e",
       "version_major": 2,
       "version_minor": 0
      },
      "text/plain": [
       "outer:   0%|          | 0/1 [00:00<?, ?it/s]"
      ]
     },
     "metadata": {},
     "output_type": "display_data"
    }
   ],
   "source": [
    "options = webdriver.ChromeOptions()\n",
    "options.add_argument('--start-maximized') # 전체 화면\n",
    "options.add_argument(\"--incognito\") # 시크릿 모드\n",
    "driver = webdriver.Chrome(\n",
    "    service=Service(ChromeDriverManager().install()),\n",
    "    options=options\n",
    ")\n",
    "\n",
    "for url in tqdm(url_lst, desc=\"outer\", position=0):\n",
    "    driver.get(url)\n",
    "    WebDriverWait(driver, 10).until(EC.presence_of_element_located((By.CSS_SELECTOR, \"p.reviewItems_text__XrSSf\")))\n",
    "    \n",
    "    html = driver.page_source\n",
    "    soup = BeautifulSoup(html, 'lxml')\n",
    "    review = all_review(soup)\n",
    "    \n",
    "    page_num = (review // 20) + 1\n",
    "    result = []\n",
    "    for i in range(1,6):\n",
    "        rating_click(driver, i)\n",
    "        \n",
    "        time.sleep(0.2)\n",
    "        \n",
    "        html = driver.page_source\n",
    "        soup = BeautifulSoup(html, 'lxml')\n",
    "        # 1페이지 수집\n",
    "        for i in range(review_per_page(soup)):\n",
    "            data = data_collect(soup, i)\n",
    "            result.append(data)\n",
    "        \n",
    "        # 2페이지 부터 수집\n",
    "        for i in range(2, 101):\n",
    "            try:\n",
    "                next_click(driver, i)\n",
    "            except:\n",
    "                break\n",
    "            time.sleep(0.2)\n",
    "            html = driver.page_source\n",
    "            soup = BeautifulSoup(html, 'lxml')\n",
    "            for j in range(review_per_page(soup)):\n",
    "                data = data_collect(soup, j)\n",
    "                result.append(data)\n",
    "    \n",
    "            time.sleep(0.5)\n",
    "\n",
    "    results_df = pd.DataFrame(result)\n",
    "    results_df.columns = ['content', 'score', 'date', 'option']\n",
    "        \n",
    "    "
   ]
  },
  {
   "cell_type": "code",
   "execution_count": 21,
   "metadata": {},
   "outputs": [
    {
     "data": {
      "text/html": [
       "<div>\n",
       "<style scoped>\n",
       "    .dataframe tbody tr th:only-of-type {\n",
       "        vertical-align: middle;\n",
       "    }\n",
       "\n",
       "    .dataframe tbody tr th {\n",
       "        vertical-align: top;\n",
       "    }\n",
       "\n",
       "    .dataframe thead th {\n",
       "        text-align: right;\n",
       "    }\n",
       "</style>\n",
       "<table border=\"1\" class=\"dataframe\">\n",
       "  <thead>\n",
       "    <tr style=\"text-align: right;\">\n",
       "      <th></th>\n",
       "      <th>content</th>\n",
       "      <th>score</th>\n",
       "      <th>date</th>\n",
       "      <th>option</th>\n",
       "    </tr>\n",
       "  </thead>\n",
       "  <tbody>\n",
       "    <tr>\n",
       "      <th>0</th>\n",
       "      <td>제품은 좋은데 배송이 만족스럽지 못했습니다</td>\n",
       "      <td>5</td>\n",
       "      <td>23.09.08.</td>\n",
       "      <td>닥터그루트 지성 두피용 샴푸 400ml: -포켓몬 디자인 상품 출고에 동의합니다.</td>\n",
       "    </tr>\n",
       "    <tr>\n",
       "      <th>1</th>\n",
       "      <td>제품은 항상 쓰던거 배송좋아요</td>\n",
       "      <td>5</td>\n",
       "      <td>23.09.07.</td>\n",
       "      <td>닥터그루트 지성 두피용 샴푸 400ml: -포켓몬 디자인 상품 출고에 동의합니다.</td>\n",
       "    </tr>\n",
       "    <tr>\n",
       "      <th>2</th>\n",
       "      <td>재구매요 쿨링감 있고요 파손 안되서와서 다행히에요</td>\n",
       "      <td>5</td>\n",
       "      <td>23.09.06.</td>\n",
       "      <td></td>\n",
       "    </tr>\n",
       "    <tr>\n",
       "      <th>3</th>\n",
       "      <td>배송도 빠르고 저렴하게 사게되어서 좋네요</td>\n",
       "      <td>5</td>\n",
       "      <td>23.09.06.</td>\n",
       "      <td>닥터그루트 지성 두피용 샴푸 400ml: -포켓몬 디자인 상품 출고에 동의합니다.</td>\n",
       "    </tr>\n",
       "    <tr>\n",
       "      <th>4</th>\n",
       "      <td>탈모완화효과를 체감할 수 있는 샴푸!</td>\n",
       "      <td>5</td>\n",
       "      <td>23.09.06.</td>\n",
       "      <td></td>\n",
       "    </tr>\n",
       "    <tr>\n",
       "      <th>...</th>\n",
       "      <td>...</td>\n",
       "      <td>...</td>\n",
       "      <td>...</td>\n",
       "      <td>...</td>\n",
       "    </tr>\n",
       "    <tr>\n",
       "      <th>1995</th>\n",
       "      <td>맛있고 배송도 빠르고 넘 넘 좋아요~</td>\n",
       "      <td>5</td>\n",
       "      <td>21.09.17.</td>\n",
       "      <td></td>\n",
       "    </tr>\n",
       "    <tr>\n",
       "      <th>1996</th>\n",
       "      <td>역시 닥터그루트닙니당</td>\n",
       "      <td>5</td>\n",
       "      <td>21.09.17.</td>\n",
       "      <td></td>\n",
       "    </tr>\n",
       "    <tr>\n",
       "      <th>1997</th>\n",
       "      <td>떡 잘지는 머리에 좋아요</td>\n",
       "      <td>5</td>\n",
       "      <td>21.09.16.</td>\n",
       "      <td></td>\n",
       "    </tr>\n",
       "    <tr>\n",
       "      <th>1998</th>\n",
       "      <td>빠른배송 감사합니다 ~.^^</td>\n",
       "      <td>5</td>\n",
       "      <td>21.09.15.</td>\n",
       "      <td></td>\n",
       "    </tr>\n",
       "    <tr>\n",
       "      <th>1999</th>\n",
       "      <td>써본 샴푸들 중 탈모방지 효과가 가장 뛰어나 애용하는 상품인데 싸게 구입했습니다.잘...</td>\n",
       "      <td>5</td>\n",
       "      <td>21.09.14.</td>\n",
       "      <td></td>\n",
       "    </tr>\n",
       "  </tbody>\n",
       "</table>\n",
       "<p>2000 rows × 4 columns</p>\n",
       "</div>"
      ],
      "text/plain": [
       "                                                content  score       date  \\\n",
       "0                               제품은 좋은데 배송이 만족스럽지 못했습니다      5  23.09.08.   \n",
       "1                                      제품은 항상 쓰던거 배송좋아요      5  23.09.07.   \n",
       "2                           재구매요 쿨링감 있고요 파손 안되서와서 다행히에요      5  23.09.06.   \n",
       "3                                배송도 빠르고 저렴하게 사게되어서 좋네요      5  23.09.06.   \n",
       "4                                  탈모완화효과를 체감할 수 있는 샴푸!      5  23.09.06.   \n",
       "...                                                 ...    ...        ...   \n",
       "1995                               맛있고 배송도 빠르고 넘 넘 좋아요~      5  21.09.17.   \n",
       "1996                                        역시 닥터그루트닙니당      5  21.09.17.   \n",
       "1997                                      떡 잘지는 머리에 좋아요      5  21.09.16.   \n",
       "1998                                    빠른배송 감사합니다 ~.^^      5  21.09.15.   \n",
       "1999  써본 샴푸들 중 탈모방지 효과가 가장 뛰어나 애용하는 상품인데 싸게 구입했습니다.잘...      5  21.09.14.   \n",
       "\n",
       "                                             option  \n",
       "0     닥터그루트 지성 두피용 샴푸 400ml: -포켓몬 디자인 상품 출고에 동의합니다.  \n",
       "1     닥터그루트 지성 두피용 샴푸 400ml: -포켓몬 디자인 상품 출고에 동의합니다.  \n",
       "2                                                    \n",
       "3     닥터그루트 지성 두피용 샴푸 400ml: -포켓몬 디자인 상품 출고에 동의합니다.  \n",
       "4                                                    \n",
       "...                                             ...  \n",
       "1995                                                 \n",
       "1996                                                 \n",
       "1997                                                 \n",
       "1998                                                 \n",
       "1999                                                 \n",
       "\n",
       "[2000 rows x 4 columns]"
      ]
     },
     "execution_count": 21,
     "metadata": {},
     "output_type": "execute_result"
    }
   ],
   "source": [
    "results_df"
   ]
  },
  {
   "cell_type": "code",
   "execution_count": 22,
   "metadata": {},
   "outputs": [],
   "source": [
    "results_df.to_csv('C:/Users/csjin/Desktop/crawling/data/닥터그루트_2_recent.csv', index=False, encoding='utf-8-sig')"
   ]
  }
 ],
 "metadata": {
  "kernelspec": {
   "display_name": "Python 3",
   "language": "python",
   "name": "python3"
  },
  "language_info": {
   "codemirror_mode": {
    "name": "ipython",
    "version": 3
   },
   "file_extension": ".py",
   "mimetype": "text/x-python",
   "name": "python",
   "nbconvert_exporter": "python",
   "pygments_lexer": "ipython3",
   "version": "3.8.5"
  },
  "orig_nbformat": 4
 },
 "nbformat": 4,
 "nbformat_minor": 2
}
